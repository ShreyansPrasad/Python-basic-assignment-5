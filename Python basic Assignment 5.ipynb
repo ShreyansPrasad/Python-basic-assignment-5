{
 "cells": [
  {
   "cell_type": "markdown",
   "id": "d84ce741",
   "metadata": {},
   "source": [
    "#Answer1"
   ]
  },
  {
   "cell_type": "code",
   "execution_count": 7,
   "id": "a1859d5a",
   "metadata": {},
   "outputs": [],
   "source": [
    "a={}"
   ]
  },
  {
   "cell_type": "markdown",
   "id": "5cad6672",
   "metadata": {},
   "source": [
    "#Answer2"
   ]
  },
  {
   "cell_type": "code",
   "execution_count": 8,
   "id": "5c251bbd",
   "metadata": {},
   "outputs": [],
   "source": [
    "d={\"foo\":42}"
   ]
  },
  {
   "cell_type": "markdown",
   "id": "72a77188",
   "metadata": {},
   "source": [
    "#Answer3"
   ]
  },
  {
   "cell_type": "code",
   "execution_count": null,
   "id": "ac717197",
   "metadata": {},
   "outputs": [],
   "source": [
    "Dictionaries are unordered and their items are accessed by their keys, while lists are ordered and their items are accessed\n",
    "by positions/indexes."
   ]
  },
  {
   "cell_type": "markdown",
   "id": "b68cbfd2",
   "metadata": {},
   "source": [
    "#Answer4"
   ]
  },
  {
   "cell_type": "code",
   "execution_count": 11,
   "id": "ea92f2a3",
   "metadata": {},
   "outputs": [
    {
     "ename": "TypeError",
     "evalue": "'dict' object is not callable",
     "output_type": "error",
     "traceback": [
      "\u001b[1;31m---------------------------------------------------------------------------\u001b[0m",
      "\u001b[1;31mTypeError\u001b[0m                                 Traceback (most recent call last)",
      "\u001b[1;32m~\\AppData\\Local\\Temp/ipykernel_11164/2235485321.py\u001b[0m in \u001b[0;36m<module>\u001b[1;34m\u001b[0m\n\u001b[0;32m      1\u001b[0m \u001b[0mspam\u001b[0m\u001b[1;33m=\u001b[0m\u001b[1;33m{\u001b[0m\u001b[1;34m\"bar\"\u001b[0m\u001b[1;33m:\u001b[0m\u001b[1;36m100\u001b[0m\u001b[1;33m}\u001b[0m\u001b[1;33m\u001b[0m\u001b[1;33m\u001b[0m\u001b[0m\n\u001b[1;32m----> 2\u001b[1;33m \u001b[0mspam\u001b[0m\u001b[1;33m(\u001b[0m\u001b[1;34m\"foo\"\u001b[0m\u001b[1;33m)\u001b[0m\u001b[1;33m\u001b[0m\u001b[1;33m\u001b[0m\u001b[0m\n\u001b[0m",
      "\u001b[1;31mTypeError\u001b[0m: 'dict' object is not callable"
     ]
    }
   ],
   "source": [
    "spam={\"bar\":100}\n",
    "spam(\"foo\")"
   ]
  },
  {
   "cell_type": "markdown",
   "id": "e3be2924",
   "metadata": {},
   "source": [
    "#Answer5"
   ]
  },
  {
   "cell_type": "code",
   "execution_count": null,
   "id": "fa9214c0",
   "metadata": {},
   "outputs": [],
   "source": [
    "\"cat\" in spam: search \"cat\" in keys of spam dictionary\n",
    "\"cat\" in spam.values(): search \"cat\" in values of spam dictionary"
   ]
  },
  {
   "cell_type": "markdown",
   "id": "da8d7dcb",
   "metadata": {},
   "source": [
    "#Answer6"
   ]
  },
  {
   "cell_type": "code",
   "execution_count": null,
   "id": "14914f8a",
   "metadata": {},
   "outputs": [],
   "source": [
    "\"cat\" in spam: search \"cat\" in keys of spam dictionary\n",
    "\"cat\" in spam.values(): search \"cat\" in values of spam dictionary"
   ]
  },
  {
   "cell_type": "markdown",
   "id": "cd28f75e",
   "metadata": {},
   "source": [
    "#Answer7"
   ]
  },
  {
   "cell_type": "code",
   "execution_count": null,
   "id": "b0befb38",
   "metadata": {},
   "outputs": [],
   "source": [
    "spam.setdefault(\"color\",\"black\")"
   ]
  },
  {
   "cell_type": "markdown",
   "id": "a505b0bc",
   "metadata": {},
   "source": [
    "#Answer8"
   ]
  },
  {
   "cell_type": "code",
   "execution_count": 32,
   "id": "d96a63fa",
   "metadata": {},
   "outputs": [
    {
     "name": "stdout",
     "output_type": "stream",
     "text": [
      "{'a': 1, 'b': 3, 'c': {'d': 9, 'e': 10}}\n"
     ]
    }
   ],
   "source": [
    "import pprint\n",
    "d={\"a\":1,\"b\":3,\"c\":{\"d\":9,\"e\":10}}\n",
    "pprint.pprint(d)"
   ]
  },
  {
   "cell_type": "code",
   "execution_count": null,
   "id": "ac9d50e1",
   "metadata": {},
   "outputs": [],
   "source": []
  }
 ],
 "metadata": {
  "kernelspec": {
   "display_name": "Python 3 (ipykernel)",
   "language": "python",
   "name": "python3"
  },
  "language_info": {
   "codemirror_mode": {
    "name": "ipython",
    "version": 3
   },
   "file_extension": ".py",
   "mimetype": "text/x-python",
   "name": "python",
   "nbconvert_exporter": "python",
   "pygments_lexer": "ipython3",
   "version": "3.9.7"
  }
 },
 "nbformat": 4,
 "nbformat_minor": 5
}
